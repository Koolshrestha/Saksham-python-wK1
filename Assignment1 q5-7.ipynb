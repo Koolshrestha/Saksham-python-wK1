{
  "metadata": {
    "kernelspec": {
      "name": "python",
      "display_name": "Python (Pyodide)",
      "language": "python"
    },
    "language_info": {
      "codemirror_mode": {
        "name": "python",
        "version": 3
      },
      "file_extension": ".py",
      "mimetype": "text/x-python",
      "name": "python",
      "nbconvert_exporter": "python",
      "pygments_lexer": "ipython3",
      "version": "3.8"
    }
  },
  "nbformat_minor": 4,
  "nbformat": 4,
  "cells": [
    {
      "cell_type": "code",
      "source": "# For Q 5 Taking input for A and B\nA = 40\nB = 2\n\n# Initializing a temporary variable to store the original value of A\noriginal_A = A\n\n# Initializing a count variable to keep track of the number of divisions\ncount = 0\n\n# Using a while loop to check divisibility and count divisions\nwhile A % B == 0:\n    A = A // B  # Use floor division to update A\n    count += 1  # Increment the count\n\n# Checking if A was divisible by B and counting times it was divisible\nif count > 0:\n    print(f\"{original_A} is divisible by {B} and can be divided {count} times.\")\nelse:\n    print(f\"{original_A} is not divisible by {B}.\")",
      "metadata": {
        "trusted": true
      },
      "outputs": [
        {
          "name": "stdout",
          "text": "40 is divisible by 2 and can be divided 3 times.\n",
          "output_type": "stream"
        }
      ],
      "execution_count": 3
    },
    {
      "cell_type": "code",
      "source": "# Q 6 Creating a list containing 25 integers\nmy_list = [i for i in range(1, 26)]\n\n# Using a for loop to iterate through the list\nfor num in my_list:\n    if num % 3 == 0:\n        print(f\"{num} is divisible by 3\")\n    else:\n        print(f\"{num} is not divisible by 3\")\n",
      "metadata": {
        "trusted": true
      },
      "outputs": [
        {
          "name": "stdout",
          "text": "1 is not divisible by 3\n2 is not divisible by 3\n3 is divisible by 3\n4 is not divisible by 3\n5 is not divisible by 3\n6 is divisible by 3\n7 is not divisible by 3\n8 is not divisible by 3\n9 is divisible by 3\n10 is not divisible by 3\n11 is not divisible by 3\n12 is divisible by 3\n13 is not divisible by 3\n14 is not divisible by 3\n15 is divisible by 3\n16 is not divisible by 3\n17 is not divisible by 3\n18 is divisible by 3\n19 is not divisible by 3\n20 is not divisible by 3\n21 is divisible by 3\n22 is not divisible by 3\n23 is not divisible by 3\n24 is divisible by 3\n25 is not divisible by 3\n",
          "output_type": "stream"
        }
      ],
      "execution_count": 4
    },
    {
      "cell_type": "code",
      "source": "#Q 7 part 1 - Mutable Data Types: These are objects whose values can be changed after creation. Lists, dictionaries, and sets are examples of mutable data types in Python. When you modify a mutable object, you are altering the object in place, rather than creating a new one.\nl = [1, 2, 3, 4, 5]\nprint(\"Original list:\", l)\n\n# Modifying the list - mutable behavior\nl[0] = 10\nprint(\"Modified list:\", l)  ",
      "metadata": {
        "trusted": true
      },
      "outputs": [
        {
          "name": "stdout",
          "text": "Original list: [1, 2, 3, 4, 5]\nModified list: [10, 2, 3, 4, 5]\n",
          "output_type": "stream"
        }
      ],
      "execution_count": 6
    },
    {
      "cell_type": "code",
      "source": "#Q 7 part 2 Immutable Data Types: These are objects whose values cannot be changed after creation. Integers, floats, strings, tuples, and frozensets are examples of immutable data types in Python. \n",
      "metadata": {
        "trusted": true
      },
      "outputs": [],
      "execution_count": null
    }
  ]
}