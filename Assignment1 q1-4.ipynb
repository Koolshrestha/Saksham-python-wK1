{
  "metadata": {
    "kernelspec": {
      "name": "python",
      "display_name": "Python (Pyodide)",
      "language": "python"
    },
    "language_info": {
      "codemirror_mode": {
        "name": "python",
        "version": 3
      },
      "file_extension": ".py",
      "mimetype": "text/x-python",
      "name": "python",
      "nbconvert_exporter": "python",
      "pygments_lexer": "ipython3",
      "version": "3.8"
    }
  },
  "nbformat_minor": 4,
  "nbformat": 4,
  "cells": [
    {
      "cell_type": "code",
      "source": "#Q1 of assignment\ns = \"I am Saksham\"\nl = [1,2,3,4,5,6,7,8]\nf = 34.5\nt = (1, 2, 'hi', 'hello', 34.5)",
      "metadata": {
        "trusted": true
      },
      "outputs": [],
      "execution_count": 12
    },
    {
      "cell_type": "code",
      "source": "#Q 2 of assignment 1\nvar1 = ' '  # This is a string containing a single space.\nvar2 = '[ DS , ML , Python]'  # This is a string.\nvar3 = ['DS', 'ML', 'Python']  # This is a list containing strings.\nvar4 = 1.  # This is a float number.\n",
      "metadata": {
        "trusted": true
      },
      "outputs": [],
      "execution_count": 13
    },
    {
      "cell_type": "code",
      "source": "#Q 3 of assignment 1 Start from here",
      "metadata": {
        "trusted": true
      },
      "outputs": [],
      "execution_count": 13
    },
    {
      "cell_type": "code",
      "source": "\"/\" #This operator performs division, usually resulting in a float value.\ni = 4\nj = 2\nd = i / j\nprint(d)",
      "metadata": {
        "trusted": true
      },
      "outputs": [
        {
          "name": "stdout",
          "text": "2.0\n",
          "output_type": "stream"
        }
      ],
      "execution_count": 7
    },
    {
      "cell_type": "code",
      "source": "\"%\"  #This operator calculates the remainder of a division between two numbers\ni = 50\nj = 34\nd = i % j \nprint(d)",
      "metadata": {
        "trusted": true
      },
      "outputs": [
        {
          "name": "stdout",
          "text": "16\n",
          "output_type": "stream"
        }
      ],
      "execution_count": 9
    },
    {
      "cell_type": "code",
      "source": "\"//\"  #This operator performs division but returns the floor value (rounded down to the nearest whole number\ni = 34\nj = 19\nd = i // j\nprint(d)",
      "metadata": {
        "trusted": true
      },
      "outputs": [
        {
          "name": "stdout",
          "text": "1\n",
          "output_type": "stream"
        }
      ],
      "execution_count": 10
    },
    {
      "cell_type": "code",
      "source": "\"**\" #This operator raises the first operand to the power of the second operand.\ni = 3\nj = 6\nd = i ** j\nprint(d)",
      "metadata": {
        "trusted": true
      },
      "outputs": [
        {
          "name": "stdout",
          "text": "729\n",
          "output_type": "stream"
        }
      ],
      "execution_count": 11
    },
    {
      "cell_type": "code",
      "source": "#Q 3 of assignment 1 Ends here",
      "metadata": {
        "trusted": true
      },
      "outputs": [],
      "execution_count": 15
    },
    {
      "cell_type": "code",
      "source": "#Q4 of assignment 1\nl = ['a', 'd' , 1 , 4 , 5 , 6 , 4.7 , 3+5J , 2 , \"SAksham\" ]\nfor s in l :\n    print(s , type(s))\n    ",
      "metadata": {
        "trusted": true
      },
      "outputs": [
        {
          "name": "stdout",
          "text": "a <class 'str'>\nd <class 'str'>\n1 <class 'int'>\n4 <class 'int'>\n5 <class 'int'>\n6 <class 'int'>\n4.7 <class 'float'>\n(3+5j) <class 'complex'>\n2 <class 'int'>\nSAksham <class 'str'>\n",
          "output_type": "stream"
        }
      ],
      "execution_count": 16
    },
    {
      "cell_type": "code",
      "source": "print(\"hello world\")",
      "metadata": {
        "trusted": true
      },
      "outputs": [],
      "execution_count": null
    },
    {
      "cell_type": "code",
      "source": "",
      "metadata": {
        "trusted": true
      },
      "outputs": [],
      "execution_count": null
    }
  ]
}